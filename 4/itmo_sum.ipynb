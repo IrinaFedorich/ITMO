{
 "cells": [
  {
   "cell_type": "code",
   "execution_count": 24,
   "id": "a5a9911d-6009-44cc-b088-526577951a69",
   "metadata": {},
   "outputs": [
    {
     "name": "stdout",
     "output_type": "stream",
     "text": [
      "Среднее значение: 8.506962025316456\n",
      "Среднеквадратичное отклонение: 16.581571924264917\n"
     ]
    }
   ],
   "source": [
    "import pandas\n",
    "\n",
    "data = pandas.read_csv(\"data.txt\", sep='\\t', decimal=',', header=None, names=['w', 'val'])\n",
    "val = data['val'].tolist()\n",
    "\n",
    "m = sum(val) / len(val)\n",
    "\n",
    "var = sum((x - m)**2 for x in val)\n",
    "var /= len(val)  \n",
    "stddv = var ** 0.5\n",
    "\n",
    "print(f\"Среднее значение: {m}\")\n",
    "print(f\"Среднеквадратичное отклонение: {stddv}\")"
   ]
  }
 ],
 "metadata": {
  "kernelspec": {
   "display_name": "Python 3 (ipykernel)",
   "language": "python",
   "name": "python3"
  },
  "language_info": {
   "codemirror_mode": {
    "name": "ipython",
    "version": 3
   },
   "file_extension": ".py",
   "mimetype": "text/x-python",
   "name": "python",
   "nbconvert_exporter": "python",
   "pygments_lexer": "ipython3",
   "version": "3.12.7"
  }
 },
 "nbformat": 4,
 "nbformat_minor": 5
}
